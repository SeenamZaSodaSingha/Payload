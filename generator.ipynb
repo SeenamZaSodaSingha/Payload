{
 "cells": [
  {
   "cell_type": "markdown",
   "metadata": {},
   "source": [
    "### Main Program\n",
    "Turn csv file into pandas format and export as sheet"
   ]
  },
  {
   "cell_type": "code",
   "execution_count": null,
   "metadata": {},
   "outputs": [],
   "source": [
    "import pandas as pd\n",
    "input_file = ''\n",
    "output_file= input_file+'_extracted.xlsx'"
   ]
  },
  {
   "cell_type": "code",
   "execution_count": null,
   "metadata": {},
   "outputs": [],
   "source": [
    "# Read CSV and extract interested column\n",
    "\n",
    "df = pd.read_csv(input_file+'.csv')\n",
    "columns_to_extract = ['Plugin ID', 'Risk', 'Host', 'Name']\n",
    "extract_columns = df[columns_to_extract]"
   ]
  },
  {
   "cell_type": "code",
   "execution_count": null,
   "metadata": {},
   "outputs": [],
   "source": [
    "print(extract_columns)"
   ]
  },
  {
   "cell_type": "code",
   "execution_count": null,
   "metadata": {},
   "outputs": [],
   "source": [
    "# Replace NaN values in the 'Risk' column with 'Info'\n",
    "# extract_columns['Risk'].fillna('Info', inplace=True)\n",
    "extract_columns['Risk'] = extract_columns['Risk'].fillna('Info');"
   ]
  },
  {
   "cell_type": "markdown",
   "metadata": {},
   "source": [
    "### Extract top 10 Vulnerable host by severity"
   ]
  },
  {
   "cell_type": "code",
   "execution_count": null,
   "metadata": {},
   "outputs": [],
   "source": [
    "# Define a custom sorting order for the 'Risk' column\n",
    "risk_order = ['Critical', 'High', 'Medium', 'Low', 'Info']"
   ]
  },
  {
   "cell_type": "code",
   "execution_count": null,
   "metadata": {},
   "outputs": [],
   "source": [
    "# Group by 'Host' and 'Risk' and count the number of unique 'Plugin ID' values for each group\n",
    "grouped = extract_columns.groupby(['Host', 'Risk'])['Plugin ID'].nunique().unstack(fill_value=0)"
   ]
  },
  {
   "cell_type": "code",
   "execution_count": null,
   "metadata": {},
   "outputs": [],
   "source": [
    "# Ensure all risk categories are represented in the columns\n",
    "for risk in risk_order:\n",
    "    if risk not in grouped.columns:\n",
    "        grouped[risk] = 0"
   ]
  },
  {
   "cell_type": "code",
   "execution_count": null,
   "metadata": {},
   "outputs": [],
   "source": [
    "# Reindex the columns by the custom risk order to ensure the order is correct\n",
    "grouped = grouped.reindex(columns=risk_order)\n",
    "sorted_grouped = grouped.sort_values(by=risk_order, ascending=False)"
   ]
  },
  {
   "cell_type": "code",
   "execution_count": null,
   "metadata": {},
   "outputs": [],
   "source": [
    "print(sorted_grouped[:10])"
   ]
  },
  {
   "cell_type": "markdown",
   "metadata": {},
   "source": [
    "### Top 10 Vulnerability"
   ]
  },
  {
   "cell_type": "code",
   "execution_count": null,
   "metadata": {},
   "outputs": [],
   "source": [
    "df_filtered = df[extract_columns['Risk'] != 'Info']\n",
    "vulnerability_counts = df_filtered['Name'].value_counts()\n",
    "top_10_vulnerabilities = vulnerability_counts.head(10)\n",
    "top_10_vulnerabilities"
   ]
  },
  {
   "cell_type": "markdown",
   "metadata": {},
   "source": [
    "### Export as .xlsx"
   ]
  },
  {
   "cell_type": "code",
   "execution_count": null,
   "metadata": {},
   "outputs": [],
   "source": [
    "#sorted_grouped.to_excel(input_file+'severity_sort.xlsx', engine='xlsxwriter')\n",
    "#print(input_file)"
   ]
  }
 ],
 "metadata": {
  "kernelspec": {
   "display_name": "Python 3",
   "language": "python",
   "name": "python3"
  },
  "language_info": {
   "codemirror_mode": {
    "name": "ipython",
    "version": 3
   },
   "file_extension": ".py",
   "mimetype": "text/x-python",
   "name": "python",
   "nbconvert_exporter": "python",
   "pygments_lexer": "ipython3",
   "version": "3.12.3"
  }
 },
 "nbformat": 4,
 "nbformat_minor": 2
}
